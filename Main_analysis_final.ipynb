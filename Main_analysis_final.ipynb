{
 "cells": [
  {
   "cell_type": "code",
   "execution_count": 2,
   "id": "0e9b6e65",
   "metadata": {},
   "outputs": [],
   "source": [
    "#importing the necessary packages\n",
    "import brightway2 as bw  #importing the Brightway package for doing LCA calculations\n",
    "import random  #\"The random module in Python defines a series of functions for generating or manipulating random integers.\" "
   ]
  },
  {
   "cell_type": "code",
   "execution_count": 3,
   "id": "dd1c8153",
   "metadata": {},
   "outputs": [],
   "source": [
    "#initiate a project\n",
    "bw.projects.set_current(\"WSBE24\")"
   ]
  },
  {
   "cell_type": "code",
   "execution_count": 4,
   "id": "41d97f34",
   "metadata": {},
   "outputs": [
    {
     "name": "stderr",
     "output_type": "stream",
     "text": [
      "Writing activities to SQLite3 database:\n"
     ]
    },
    {
     "name": "stdout",
     "output_type": "stream",
     "text": [
      "Creating default biosphere\n",
      "\n",
      "Applying strategy: normalize_units\n",
      "Applying strategy: drop_unspecified_subcategories\n",
      "Applying strategy: ensure_categories_are_tuples\n",
      "Applied 3 strategies in 0.00 seconds\n"
     ]
    },
    {
     "name": "stderr",
     "output_type": "stream",
     "text": [
      "0% [##############################] 100% | ETA: 00:00:00\n",
      "Total time elapsed: 00:00:00\n"
     ]
    },
    {
     "name": "stdout",
     "output_type": "stream",
     "text": [
      "Title: Writing activities to SQLite3 database:\n",
      "  Started: 05/14/2024 15:38:58\n",
      "  Finished: 05/14/2024 15:38:58\n",
      "  Total time elapsed: 00:00:00\n",
      "  CPU %: 16.60\n",
      "  Memory %: 1.16\n",
      "Created database: biosphere3\n",
      "Creating default LCIA methods\n",
      "\n",
      "Wrote 762 LCIA methods with 227223 characterization factors\n",
      "Creating core data migrations\n",
      "\n"
     ]
    }
   ],
   "source": [
    "#import the biosphere database and all LCIA methods\n",
    "bw.bw2setup()"
   ]
  },
  {
   "cell_type": "code",
   "execution_count": 5,
   "id": "9f523d6b",
   "metadata": {},
   "outputs": [
    {
     "name": "stdout",
     "output_type": "stream",
     "text": [
      "Extracting XML data from 21277 datasets\n",
      "Extracted 21277 datasets in 79.00 seconds\n",
      "Applying strategy: normalize_units\n",
      "Applying strategy: update_ecoinvent_locations\n",
      "Applying strategy: remove_zero_amount_coproducts\n",
      "Applying strategy: remove_zero_amount_inputs_with_no_activity\n",
      "Applying strategy: remove_unnamed_parameters\n",
      "Applying strategy: es2_assign_only_product_with_amount_as_reference_product\n",
      "Applying strategy: assign_single_product_as_activity\n",
      "Applying strategy: create_composite_code\n",
      "Applying strategy: drop_unspecified_subcategories\n",
      "Applying strategy: fix_ecoinvent_flows_pre35\n",
      "Applying strategy: drop_temporary_outdated_biosphere_flows\n",
      "Applying strategy: link_biosphere_by_flow_uuid\n",
      "Applying strategy: link_internal_technosphere_by_composite_code\n",
      "Applying strategy: delete_exchanges_missing_activity\n",
      "Applying strategy: delete_ghost_exchanges\n",
      "Applying strategy: remove_uncertainty_from_negative_loss_exchanges\n",
      "Applying strategy: fix_unreasonably_high_lognormal_uncertainties\n",
      "Applying strategy: set_lognormal_loc_value\n",
      "Applying strategy: convert_activity_parameters_to_list\n",
      "Applying strategy: add_cpc_classification_from_single_reference_product\n",
      "Applying strategy: delete_none_synonyms\n",
      "Applied 21 strategies in 6.18 seconds\n"
     ]
    },
    {
     "name": "stderr",
     "output_type": "stream",
     "text": [
      "Writing activities to SQLite3 database:\n"
     ]
    },
    {
     "name": "stdout",
     "output_type": "stream",
     "text": [
      "21277 datasets\n",
      "679195 exchanges\n",
      "0 unlinked exchanges\n",
      "  \n"
     ]
    },
    {
     "name": "stderr",
     "output_type": "stream",
     "text": [
      "0% [##############################] 100% | ETA: 00:00:00\n",
      "Total time elapsed: 00:00:30\n"
     ]
    },
    {
     "name": "stdout",
     "output_type": "stream",
     "text": [
      "Title: Writing activities to SQLite3 database:\n",
      "  Started: 05/14/2024 15:41:47\n",
      "  Finished: 05/14/2024 15:42:18\n",
      "  Total time elapsed: 00:00:30\n",
      "  CPU %: 56.20\n",
      "  Memory %: 22.57\n",
      "Created database: ei391EN15804\n"
     ]
    }
   ],
   "source": [
    "#import the ecoinvent database: ecoinvent v3.9.1., system model EN15804\n",
    "db_name = 'ei391EN15804'\n",
    "fp = r'C:/ecoinvent 3.9.1_EN15804_ecoSpold02/datasets'\n",
    "\n",
    "if db_name in bw.databases:\n",
    "    print(\"Database already imported\")\n",
    "else:\n",
    "    evimp = bw.SingleOutputEcospold2Importer(fp, db_name)\n",
    "    evimp.apply_strategies()\n",
    "    evimp.statistics()\n",
    "    evimp.write_database()"
   ]
  },
  {
   "cell_type": "code",
   "execution_count": 8,
   "id": "3310cfcf",
   "metadata": {},
   "outputs": [
    {
     "data": {
      "text/plain": [
       "Databases dictionary with 2 object(s):\n",
       "\tbiosphere3\n",
       "\tei391EN15804"
      ]
     },
     "execution_count": 8,
     "metadata": {},
     "output_type": "execute_result"
    }
   ],
   "source": [
    "#check that the databases have been created\n",
    "bw.databases"
   ]
  },
  {
   "cell_type": "code",
   "execution_count": 10,
   "id": "2ca44268",
   "metadata": {},
   "outputs": [
    {
     "name": "stdout",
     "output_type": "stream",
     "text": [
      "4709 is the length of the biosphere // 21277 is the length of ecoinvent\n"
     ]
    }
   ],
   "source": [
    "#check if both databases are filled with datasets, i.e. their lenght is > 0\n",
    "print(len(bw.Database('biosphere3')), 'is the length of the biosphere //', len(bw.Database('ei391EN15804')), 'is the length of ecoinvent')"
   ]
  },
  {
   "cell_type": "code",
   "execution_count": 11,
   "id": "84ed32ee",
   "metadata": {},
   "outputs": [
    {
     "name": "stderr",
     "output_type": "stream",
     "text": [
      "Writing activities to SQLite3 database:\n",
      "0% [##############################] 100% | ETA: 00:00:00\n",
      "Total time elapsed: 00:00:31\n"
     ]
    },
    {
     "name": "stdout",
     "output_type": "stream",
     "text": [
      "Title: Writing activities to SQLite3 database:\n",
      "  Started: 05/14/2024 15:46:59\n",
      "  Finished: 05/14/2024 15:47:30\n",
      "  Total time elapsed: 00:00:31\n",
      "  CPU %: 50.00\n",
      "  Memory %: 61.45\n"
     ]
    },
    {
     "name": "stderr",
     "output_type": "stream",
     "text": [
      "Writing activities to SQLite3 database:\n",
      "0% [##############################] 100% | ETA: 00:00:00\n",
      "Total time elapsed: 00:00:34\n"
     ]
    },
    {
     "name": "stdout",
     "output_type": "stream",
     "text": [
      "Title: Writing activities to SQLite3 database:\n",
      "  Started: 05/14/2024 15:50:37\n",
      "  Finished: 05/14/2024 15:51:11\n",
      "  Total time elapsed: 00:00:34\n",
      "  CPU %: 42.00\n",
      "  Memory %: 61.49\n"
     ]
    },
    {
     "name": "stderr",
     "output_type": "stream",
     "text": [
      "Writing activities to SQLite3 database:\n",
      "0% [##############################] 100% | ETA: 00:00:00\n",
      "Total time elapsed: 00:00:34\n"
     ]
    },
    {
     "name": "stdout",
     "output_type": "stream",
     "text": [
      "Title: Writing activities to SQLite3 database:\n",
      "  Started: 05/14/2024 15:55:17\n",
      "  Finished: 05/14/2024 15:55:51\n",
      "  Total time elapsed: 00:00:34\n",
      "  CPU %: 33.90\n",
      "  Memory %: 61.82\n"
     ]
    }
   ],
   "source": [
    "#Comparison number 1: comparing the original ecoinvent database with the database where all electricity exchanges are replaced with the residual mixes, where available\n",
    "\n",
    "#original database with high, medium and low voltage electricity markets. The residual mixes are not used in the database. \n",
    "ei_db = bw.Database(\"ei391EN15804\")\n",
    "\n",
    "#database where all electricity exchanges are replaced with the residual mixes, where available, on all voltage levels.\n",
    "ei_residual = ei_db.copy(\"ei391EN15804_residual\")\n",
    "\n",
    "\n",
    "#comparison number 2: Looking at the case of Norway where the physical market is very clean, but the residual market comes without all renewable energy attributes which have been sold. \n",
    "\n",
    "#database where all electricity exchanges are replaced with the Norwegian electricity market mix on all voltage levels.\n",
    "ei_db_NO = ei_db.copy('ei_NO')\n",
    "\n",
    "#database where all electricity exchanges are replaced with the Norwegian residual electricity market mix on all voltage levels.\n",
    "\n",
    "ei_residual_NO = ei_db.copy('ei_NO_residual')"
   ]
  },
  {
   "cell_type": "code",
   "execution_count": 12,
   "id": "d7589b17",
   "metadata": {},
   "outputs": [
    {
     "data": {
      "text/plain": [
       "Databases dictionary with 5 object(s):\n",
       "\tbiosphere3\n",
       "\tei391EN15804\n",
       "\tei391EN15804_residual\n",
       "\tei_NO\n",
       "\tei_NO_residual"
      ]
     },
     "execution_count": 12,
     "metadata": {},
     "output_type": "execute_result"
    }
   ],
   "source": [
    "#check that the databases in the project\n",
    "bw.databases"
   ]
  },
  {
   "cell_type": "code",
   "execution_count": 13,
   "id": "375a3d1b-9b77-4d1d-81e4-f0648363d212",
   "metadata": {},
   "outputs": [
    {
     "data": {
      "text/plain": [
       "['electricity, high voltage, residual mix' (kilowatt hour, BA, None),\n",
       " 'electricity, low voltage, residual mix' (kilowatt hour, NO, None),\n",
       " 'electricity, high voltage, residual mix' (kilowatt hour, MT, None),\n",
       " 'electricity, low voltage, residual mix' (kilowatt hour, CY, None),\n",
       " 'electricity, high voltage, residual mix' (kilowatt hour, BG, None),\n",
       " 'electricity, high voltage, residual mix' (kilowatt hour, EE, None),\n",
       " 'electricity, high voltage, residual mix' (kilowatt hour, BE, None),\n",
       " 'electricity, high voltage, residual mix' (kilowatt hour, CY, None),\n",
       " 'electricity, high voltage, residual mix' (kilowatt hour, PT, None),\n",
       " 'electricity, low voltage, residual mix' (kilowatt hour, RS, None),\n",
       " 'electricity, low voltage, residual mix' (kilowatt hour, FR, None),\n",
       " 'electricity, medium voltage, residual mix' (kilowatt hour, BG, None),\n",
       " 'electricity, high voltage, residual mix' (kilowatt hour, FI, None),\n",
       " 'electricity, medium voltage, residual mix' (kilowatt hour, LT, None),\n",
       " 'electricity, low voltage, residual mix' (kilowatt hour, LV, None),\n",
       " 'electricity, medium voltage, residual mix' (kilowatt hour, ES, None),\n",
       " 'electricity, medium voltage, residual mix' (kilowatt hour, DE, None),\n",
       " 'electricity, low voltage, residual mix' (kilowatt hour, DK, None),\n",
       " 'electricity, medium voltage, residual mix' (kilowatt hour, DK, None),\n",
       " 'electricity, medium voltage, residual mix' (kilowatt hour, FI, None),\n",
       " 'electricity, low voltage, residual mix' (kilowatt hour, HR, None),\n",
       " 'electricity, medium voltage, residual mix' (kilowatt hour, PT, None),\n",
       " 'electricity, medium voltage, residual mix' (kilowatt hour, CZ, None),\n",
       " 'electricity, low voltage, residual mix' (kilowatt hour, SK, None),\n",
       " 'electricity, medium voltage, residual mix' (kilowatt hour, MT, None),\n",
       " 'electricity, low voltage, residual mix' (kilowatt hour, IS, None),\n",
       " 'electricity, low voltage, residual mix' (kilowatt hour, RO, None),\n",
       " 'electricity, low voltage, residual mix' (kilowatt hour, SE, None),\n",
       " 'electricity, low voltage, residual mix' (kilowatt hour, MT, None),\n",
       " 'electricity, low voltage, residual mix' (kilowatt hour, ES, None),\n",
       " 'electricity, low voltage, residual mix' (kilowatt hour, HU, None),\n",
       " 'electricity, medium voltage, residual mix' (kilowatt hour, GB, None),\n",
       " 'electricity, low voltage, residual mix' (kilowatt hour, LT, None),\n",
       " 'electricity, medium voltage, residual mix' (kilowatt hour, EE, None),\n",
       " 'electricity, high voltage, residual mix' (kilowatt hour, HU, None),\n",
       " 'electricity, medium voltage, residual mix' (kilowatt hour, GR, None),\n",
       " 'electricity, high voltage, residual mix' (kilowatt hour, NO, None),\n",
       " 'electricity, low voltage, residual mix' (kilowatt hour, IT, None),\n",
       " 'electricity, medium voltage, residual mix' (kilowatt hour, CH, None),\n",
       " 'electricity, medium voltage, residual mix' (kilowatt hour, PL, None),\n",
       " 'electricity, high voltage, residual mix' (kilowatt hour, CZ, None),\n",
       " 'electricity, low voltage, residual mix' (kilowatt hour, BG, None),\n",
       " 'electricity, medium voltage, residual mix' (kilowatt hour, NO, None),\n",
       " 'electricity, high voltage, residual mix' (kilowatt hour, SK, None),\n",
       " 'electricity, high voltage, residual mix' (kilowatt hour, RS, None),\n",
       " 'electricity, high voltage, residual mix' (kilowatt hour, LU, None),\n",
       " 'electricity, high voltage, residual mix' (kilowatt hour, CH, None),\n",
       " 'electricity, low voltage, residual mix' (kilowatt hour, BA, None),\n",
       " 'electricity, high voltage, residual mix' (kilowatt hour, IE, None),\n",
       " 'electricity, medium voltage, residual mix' (kilowatt hour, IT, None),\n",
       " 'electricity, medium voltage, residual mix' (kilowatt hour, HR, None),\n",
       " 'electricity, high voltage, residual mix' (kilowatt hour, ME, None),\n",
       " 'electricity, high voltage, residual mix' (kilowatt hour, DK, None),\n",
       " 'electricity, medium voltage, residual mix' (kilowatt hour, NL, None),\n",
       " 'electricity, high voltage, residual mix' (kilowatt hour, DE, None),\n",
       " 'electricity, medium voltage, residual mix' (kilowatt hour, FR, None),\n",
       " 'electricity, medium voltage, residual mix' (kilowatt hour, RO, None),\n",
       " 'electricity, low voltage, residual mix' (kilowatt hour, PL, None),\n",
       " 'electricity, low voltage, residual mix' (kilowatt hour, BE, None),\n",
       " 'electricity, low voltage, residual mix' (kilowatt hour, CZ, None),\n",
       " 'electricity, high voltage, residual mix' (kilowatt hour, SI, None),\n",
       " 'electricity, high voltage, residual mix' (kilowatt hour, LT, None),\n",
       " 'electricity, low voltage, residual mix' (kilowatt hour, GR, None),\n",
       " 'electricity, high voltage, residual mix' (kilowatt hour, IT, None),\n",
       " 'electricity, medium voltage, residual mix' (kilowatt hour, LU, None),\n",
       " 'electricity, high voltage, residual mix' (kilowatt hour, GR, None),\n",
       " 'electricity, medium voltage, residual mix' (kilowatt hour, ME, None),\n",
       " 'electricity, low voltage, residual mix' (kilowatt hour, EE, None),\n",
       " 'electricity, medium voltage, residual mix' (kilowatt hour, CY, None),\n",
       " 'electricity, low voltage, residual mix' (kilowatt hour, SI, None),\n",
       " 'electricity, low voltage, residual mix' (kilowatt hour, ME, None),\n",
       " 'electricity, medium voltage, residual mix' (kilowatt hour, IE, None),\n",
       " 'electricity, low voltage, residual mix' (kilowatt hour, PT, None),\n",
       " 'electricity, high voltage, residual mix' (kilowatt hour, RO, None),\n",
       " 'electricity, low voltage, residual mix' (kilowatt hour, DE, None),\n",
       " 'electricity, medium voltage, residual mix' (kilowatt hour, LV, None),\n",
       " 'electricity, high voltage, residual mix' (kilowatt hour, GB, None),\n",
       " 'electricity, medium voltage, residual mix' (kilowatt hour, SK, None),\n",
       " 'electricity, high voltage, residual mix' (kilowatt hour, FR, None),\n",
       " 'electricity, low voltage, residual mix' (kilowatt hour, IE, None),\n",
       " 'electricity, medium voltage, residual mix' (kilowatt hour, IS, None),\n",
       " 'electricity, low voltage, residual mix' (kilowatt hour, CH, None),\n",
       " 'electricity, low voltage, residual mix' (kilowatt hour, FI, None),\n",
       " 'electricity, high voltage, residual mix' (kilowatt hour, PL, None),\n",
       " 'electricity, medium voltage, residual mix' (kilowatt hour, SI, None),\n",
       " 'electricity, high voltage, residual mix' (kilowatt hour, IS, None),\n",
       " 'electricity, high voltage, residual mix' (kilowatt hour, ES, None),\n",
       " 'electricity, high voltage, residual mix' (kilowatt hour, HR, None),\n",
       " 'electricity, low voltage, residual mix' (kilowatt hour, NL, None),\n",
       " 'electricity, low voltage, residual mix' (kilowatt hour, LU, None),\n",
       " 'electricity, medium voltage, residual mix' (kilowatt hour, RS, None),\n",
       " 'electricity, medium voltage, residual mix' (kilowatt hour, SE, None),\n",
       " 'electricity, high voltage, residual mix' (kilowatt hour, SE, None),\n",
       " 'electricity, medium voltage, residual mix' (kilowatt hour, BA, None),\n",
       " 'electricity, low voltage, residual mix' (kilowatt hour, GB, None),\n",
       " 'electricity, high voltage, residual mix' (kilowatt hour, LV, None),\n",
       " 'electricity, high voltage, residual mix' (kilowatt hour, NL, None),\n",
       " 'electricity, medium voltage, residual mix' (kilowatt hour, BE, None),\n",
       " 'electricity, medium voltage, residual mix' (kilowatt hour, HU, None)]"
      ]
     },
     "execution_count": 13,
     "metadata": {},
     "output_type": "execute_result"
    }
   ],
   "source": [
    "#Let's check which residual mixes are available in the database and store them in this list of \"alternatives\"\n",
    "alternatives = [act for act in ei_db if \"residual mix\" in act[\"name\"] and \"transformation\" not in act[\"name\"]]\n",
    "alternatives"
   ]
  },
  {
   "cell_type": "code",
   "execution_count": 14,
   "id": "1182d6c3",
   "metadata": {},
   "outputs": [
    {
     "data": {
      "text/plain": [
       "['BA',\n",
       " 'BE',\n",
       " 'BG',\n",
       " 'CH',\n",
       " 'CY',\n",
       " 'CZ',\n",
       " 'DE',\n",
       " 'DK',\n",
       " 'EE',\n",
       " 'ES',\n",
       " 'FI',\n",
       " 'FR',\n",
       " 'GB',\n",
       " 'GR',\n",
       " 'HR',\n",
       " 'HU',\n",
       " 'IE',\n",
       " 'IS',\n",
       " 'IT',\n",
       " 'LT',\n",
       " 'LU',\n",
       " 'LV',\n",
       " 'ME',\n",
       " 'MT',\n",
       " 'NL',\n",
       " 'NO',\n",
       " 'PL',\n",
       " 'PT',\n",
       " 'RO',\n",
       " 'RS',\n",
       " 'SE',\n",
       " 'SI',\n",
       " 'SK']"
      ]
     },
     "execution_count": 14,
     "metadata": {},
     "output_type": "execute_result"
    }
   ],
   "source": [
    "#Let's check for which geographies the residual mixes are available:\n",
    "\n",
    "#collect all locations in a list\n",
    "locations = []\n",
    "for act in alternatives:\n",
    "    locations.append(act['location'])\n",
    "\n",
    "#remove duplicates\n",
    "locations = list(set(locations))\n",
    "\n",
    "#and sort alphabetically\n",
    "locations.sort()\n",
    "locations\n",
    "\n",
    "#residual mixes are only available for European countries in ecoinvent. See https://support.ecoinvent.org/energy"
   ]
  },
  {
   "cell_type": "code",
   "execution_count": null,
   "id": "b6c88494-2f18-4cd6-93d3-37fba2861aa3",
   "metadata": {},
   "outputs": [],
   "source": [
    "#now we replace all electricity exchanges in the database with the respective residual mix in case it exists.\n",
    "\n",
    "n = 0 #just a counter to be able to track how the procedure is advancing (namely how many ecoinvent activities have been looked at)\n",
    "changes = 0 #just a counter to see how many exchanges were replaced in the end\n",
    "for act in ei_residual:\n",
    "    n+=1\n",
    "    for exc in act.technosphere():\n",
    "        if exc.input[\"reference product\"] in [\"electricity, low voltage\", \"electricity, medium voltage\", \"electricity, high voltage\"]:\n",
    "            for alt in alternatives:\n",
    "                if exc.input[\"reference product\"] == alt[\"reference product\"] and exc.input[\"location\"] == alt[\"location\"]:\n",
    "                    exc.input = alt\n",
    "                    exc.save()\n",
    "                    changes+=1\n",
    "    act.save()\n",
    "    print(n)\n",
    "print(changes)"
   ]
  },
  {
   "cell_type": "markdown",
   "id": "e1cf6d58",
   "metadata": {},
   "source": [
    "List all European locations in the database"
   ]
  },
  {
   "cell_type": "code",
   "execution_count": 16,
   "id": "03866a63-032b-4644-8cca-c54a6cf00983",
   "metadata": {},
   "outputs": [],
   "source": [
    "#a list of countries and regions that belong to Europe, to be able to apply changes only in Europe in the Norwegian case\n",
    "europe = ['AT',\n",
    "          'BE',\n",
    "          'BG',\n",
    "          'CY',\n",
    "          'CZ',\n",
    "          'DE',\n",
    "          'DK',\n",
    "          'EE',\n",
    "          'ES',\n",
    "          'FI',\n",
    "          'FR',\n",
    "          'GR',\n",
    "          'HR',\n",
    "          'HU',\n",
    "          'IE',\n",
    "          'IT',\n",
    "          'LT',\n",
    "          'LU',\n",
    "          'LV',\n",
    "          'MT',\n",
    "          'NL',\n",
    "          'PL',\n",
    "          'PT',\n",
    "          'RO',\n",
    "          'SE',\n",
    "          'SI',\n",
    "          'SK',\n",
    "          'GB',\n",
    "          'CH',\n",
    "          'NO', \n",
    "          'RER', \n",
    "          'RER w/o CH+DE', 'RER w/o DE+NL+NO', \n",
    "          'RER w/o DE+NL+RU', \n",
    "          'Europe without Switzerland and Austria', \n",
    "          'Europe without Austria',\n",
    "          'Europe without Switzerland',\n",
    "          'UCTE',\n",
    "          'UCTE without Germany',\n",
    "          'WEU',\n",
    "          'ENTSO-E']"
   ]
  },
  {
   "cell_type": "code",
   "execution_count": null,
   "id": "65a857b6",
   "metadata": {},
   "outputs": [],
   "source": [
    "#Create the Norwegian physical electricity mixes database\n",
    "\n",
    "NO =  [act for act in alternatives if act[\"location\"] == \"NO\"]\n",
    "n = 0\n",
    "for act in ei_db_NO:\n",
    "    if act[\"location\"] in europe:\n",
    "        n+=1\n",
    "        for exc in act.technosphere():\n",
    "            if exc.input[\"reference product\"] in [\"electricity, low voltage\", \"electricity, medium voltage\", \"electricity, high voltage\"]:\n",
    "                for alt in NO:\n",
    "                    if exc.input[\"reference product\"] == alt[\"reference product\"]:\n",
    "                        exc.input = alt\n",
    "                        exc.save()\n",
    "        act.save()\n",
    "        print(n)"
   ]
  },
  {
   "cell_type": "code",
   "execution_count": null,
   "id": "171aeaf3",
   "metadata": {},
   "outputs": [],
   "source": [
    "#Create the Norwegian residual electricity mixes database\n",
    "\n",
    "residual_NO =  [act for act in alternatives if act[\"location\"] == \"NO\"]\n",
    "n = 0\n",
    "for act in ei_residual_NO:\n",
    "    if act[\"location\"] in europe:\n",
    "        n+=1\n",
    "        for exc in act.technosphere():\n",
    "            if exc.input[\"reference product\"] in [\"electricity, low voltage\", \"electricity, medium voltage\", \"electricity, high voltage\"]:\n",
    "                for alt in residual_NO:\n",
    "                    if exc.input[\"reference product\"] == alt[\"reference product\"]:\n",
    "                        exc.input = alt\n",
    "                        exc.save()\n",
    "        act.save()\n",
    "        print(n)"
   ]
  },
  {
   "cell_type": "code",
   "execution_count": 19,
   "id": "0636d980-a83d-4d8b-89ef-c634047c8da8",
   "metadata": {},
   "outputs": [],
   "source": [
    "#Extract the relevant activities from each database\n",
    "\n",
    "steel_original = [act for act in ei_db if act[\"name\"] == \"reinforcing steel production\" and act[\"location\"] == \"Europe without Austria\"][0]\n",
    "concrete_original = [act for act in ei_db if act[\"name\"] == \"cement production, Portland\" and act[\"location\"] == \"Europe without Switzerland\"][0]\n",
    "CLT_original = [act for act in ei_db if act[\"name\"] == \"cross-laminated timber production\" and act[\"location\"] == \"RER\" and act[\"unit\"]==\"cubic meter\"][0]\n",
    "brick_original = [act for act in ei_db if act[\"name\"] == \"clay brick production\" and act[\"location\"] == \"RER\"][0]\n",
    "stone_wool_original = [act for act in ei_db if act[\"name\"] == \"stone wool production\" and act[\"location\"] == \"CH\"][0]\n",
    "EPS_original = [act for act in ei_db if act[\"name\"] == \"polystyrene foam slab production, 10% recycled\" and act[\"location\"] == \"CH\"][0]\n",
    "\n",
    "steel_modified = [act for act in ei_residual if act[\"name\"] == \"reinforcing steel production\" and act[\"location\"] == \"Europe without Austria\"][0]\n",
    "concrete_modified = [act for act in ei_residual if act[\"name\"] == \"cement production, Portland\" and act[\"location\"] == \"Europe without Switzerland\"][0]\n",
    "CLT_modified = [act for act in ei_residual if act[\"name\"] == \"cross-laminated timber production\" and act[\"location\"] == \"RER\" and act[\"unit\"]==\"cubic meter\"][0]\n",
    "brick_modified = [act for act in ei_residual if act[\"name\"] == \"clay brick production\" and act[\"location\"] == \"RER\"][0]\n",
    "stone_wool_modified = [act for act in ei_residual if act[\"name\"] == \"stone wool production\" and act[\"location\"] == \"CH\"][0]\n",
    "EPS_modified = [act for act in ei_residual if act[\"name\"] == \"polystyrene foam slab production, 10% recycled\" and act[\"location\"] == \"CH\"][0]\n",
    "\n",
    "steel_NO = [act for act in ei_db_NO if act[\"name\"] == \"reinforcing steel production\" and act[\"location\"] == \"Europe without Austria\"][0]\n",
    "concrete_NO = [act for act in ei_db_NO if act[\"name\"] == \"cement production, Portland\" and act[\"location\"] == \"Europe without Switzerland\"][0]\n",
    "CLT_NO = [act for act in ei_db_NO if act[\"name\"] == \"cross-laminated timber production\" and act[\"location\"] == \"RER\" and act[\"unit\"]==\"cubic meter\"][0]\n",
    "brick_NO = [act for act in ei_db_NO if act[\"name\"] == \"clay brick production\" and act[\"location\"] == \"RER\"][0]\n",
    "stone_wool_NO = [act for act in ei_db_NO if act[\"name\"] == \"stone wool production\" and act[\"location\"] == \"CH\"][0]\n",
    "EPS_NO = [act for act in ei_db_NO if act[\"name\"] == \"polystyrene foam slab production, 10% recycled\" and act[\"location\"] == \"CH\"][0]\n",
    "\n",
    "steel_modified_NO = [act for act in ei_residual_NO if act[\"name\"] == \"reinforcing steel production\" and act[\"location\"] == \"Europe without Austria\"][0]\n",
    "concrete_modified_NO = [act for act in ei_residual_NO if act[\"name\"] == \"cement production, Portland\" and act[\"location\"] == \"Europe without Switzerland\"][0]\n",
    "CLT_modified_NO = [act for act in ei_residual_NO if act[\"name\"] == \"cross-laminated timber production\" and act[\"location\"] == \"RER\" and act[\"unit\"]==\"cubic meter\"][0]\n",
    "brick_modified_NO = [act for act in ei_residual_NO if act[\"name\"] == \"clay brick production\" and act[\"location\"] == \"RER\"][0]\n",
    "stone_wool_modified_NO = [act for act in ei_residual_NO if act[\"name\"] == \"stone wool production\" and act[\"location\"] == \"CH\"][0]\n",
    "EPS_modified_NO = [act for act in ei_residual_NO if act[\"name\"] == \"polystyrene foam slab production, 10% recycled\" and act[\"location\"] == \"CH\"][0]\n",
    "\n",
    "all_activities = [steel_original, steel_modified, steel_NO, steel_modified_NO, concrete_original, concrete_modified, concrete_NO, concrete_modified_NO, CLT_original, CLT_modified, CLT_NO, CLT_modified_NO, brick_original, brick_modified, brick_NO, brick_modified_NO, stone_wool_original, stone_wool_modified, stone_wool_NO, stone_wool_modified_NO, EPS_original, EPS_modified, EPS_NO, EPS_modified_NO]"
   ]
  },
  {
   "cell_type": "code",
   "execution_count": 20,
   "id": "d3240214-bbce-49b8-be2f-aaa1abdc6a57",
   "metadata": {
    "scrolled": true
   },
   "outputs": [
    {
     "name": "stdout",
     "output_type": "stream",
     "text": [
      "Exchange: 1.0 kilowatt hour 'average European renewable mix' (kilowatt hour, RER, None) to 'average European renewable mix' (kilowatt hour, RER, None)>\n",
      "Exchange: 0.01 kilowatt hour 'electricity production, deep geothermal' (kilowatt hour, IS, None) to 'average European renewable mix' (kilowatt hour, RER, None)>\n",
      "Exchange: 0.12 kilowatt hour 'electricity, from municipal waste incineration to generic market for electricity, medium voltage' (kilowatt hour, GB, None) to 'average European renewable mix' (kilowatt hour, RER, None)>\n",
      "Exchange: 0.13 kilowatt hour 'electricity production, photovoltaic, 570kWp open ground installation, multi-Si' (kilowatt hour, DE, None) to 'average European renewable mix' (kilowatt hour, RER, None)>\n",
      "Exchange: 0.35 kilowatt hour 'electricity production, wind, >3MW turbine, onshore' (kilowatt hour, DE, None) to 'average European renewable mix' (kilowatt hour, RER, None)>\n",
      "Exchange: 0.39 kilowatt hour 'electricity production, hydro, reservoir, alpine region' (kilowatt hour, NO, None) to 'average European renewable mix' (kilowatt hour, RER, None)>\n"
     ]
    }
   ],
   "source": [
    "#Create the renewable electricity mix that is used in the foreground\n",
    "\n",
    "geo = [act for act in ei_db if act[\"name\"] == \"electricity production, deep geothermal\" and act[\"location\"] == \"IS\"][0]\n",
    "bio = [act for act in ei_db if act[\"name\"] == \"electricity, from municipal waste incineration to generic market for electricity, medium voltage\" and act[\"location\"] == \"GB\"][0]\n",
    "solar = [act for act in ei_db if act[\"name\"] == \"electricity production, photovoltaic, 570kWp open ground installation, multi-Si\" and act[\"location\"] == \"DE\"][0]\n",
    "wind = [act for act in ei_db if act[\"name\"] == \"electricity production, wind, >3MW turbine, onshore\" and act[\"location\"] == \"DE\"][0]\n",
    "hydro = [act for act in ei_db if act[\"name\"] == \"electricity production, hydro, reservoir, alpine region\" and act[\"location\"] == \"NO\"][0]\n",
    "\n",
    "renewable_elec = ei_db.new_activity(\n",
    "        code = ''.join(str(random.randint(1, 9)) for _ in range(20)), #Generating a random code with 20 numbers\n",
    "        name = \"average European renewable mix\",\n",
    "        unit = \"kilowatt hour\",\n",
    "        location =\"RER\")\n",
    "renewable_elec[\"reference product\"] = \"electricity\"\n",
    "renewable_elec.new_exchange(\n",
    "    input = renewable_elec.key,\n",
    "    amount = 1.0,\n",
    "    unit = renewable_elec[\"unit\"],\n",
    "    type = 'production').save()\n",
    "renewable_elec.new_exchange(\n",
    "    input = geo.key,\n",
    "    amount = 0.01,\n",
    "    unit = \"kilowatt hour\",\n",
    "    type = 'technosphere').save()\n",
    "renewable_elec.new_exchange(\n",
    "    input = bio.key,\n",
    "    amount = 0.12,\n",
    "    unit = \"kilowatt hour\",\n",
    "    type = 'technosphere').save()\n",
    "renewable_elec.new_exchange(\n",
    "    input = solar.key,\n",
    "    amount = 0.13,\n",
    "    unit = \"kilowatt hour\",\n",
    "    type = 'technosphere').save()\n",
    "renewable_elec.new_exchange(\n",
    "    input = wind.key,\n",
    "    amount = 0.35,\n",
    "    unit = \"kilowatt hour\",\n",
    "    type = 'technosphere').save()\n",
    "renewable_elec.new_exchange(\n",
    "    input = hydro.key,\n",
    "    amount = 0.39,\n",
    "    unit = \"kilowatt hour\",\n",
    "    type = 'technosphere').save()\n",
    "renewable_elec.save()\n",
    "\n",
    "for exc in renewable_elec.exchanges():\n",
    "    print(exc)"
   ]
  },
  {
   "cell_type": "code",
   "execution_count": 21,
   "id": "6130671e-a5cc-438e-aa98-9b6ae4a7d400",
   "metadata": {},
   "outputs": [],
   "source": [
    "#Replace the electricity mixes used in the foreground of the selected materials with the previously created renewable electricity mix\n",
    "\n",
    "for act in all_activities:\n",
    "    for exc in act.technosphere():\n",
    "        if exc.input[\"reference product\"] in [\"electricity, low voltage\", \"electricity, medium voltage\", \"electricity, high voltage\"]:\n",
    "            exc.input = renewable_elec\n",
    "            exc.save()\n",
    "    act.save()"
   ]
  },
  {
   "cell_type": "code",
   "execution_count": 26,
   "id": "5567f4ba-a964-452f-8b31-e0583629065a",
   "metadata": {},
   "outputs": [
    {
     "name": "stdout",
     "output_type": "stream",
     "text": [
      "Done !\n"
     ]
    }
   ],
   "source": [
    "#Select the methods to calculate the LCA\n",
    "method = [m for m in bw.methods if 'EF v3.1 EN15804' in str(m)]\n",
    "\n",
    "LCA_results = []\n",
    "\n",
    "#Perform the LCA for all indicators and save results in a list\n",
    "for act in all_activities:\n",
    "    temp_results = []\n",
    "    lca = bw.LCA({act: 1}, method[0])\n",
    "    lca.lci()\n",
    "    lca.lcia()\n",
    "    for m in method:\n",
    "        lca.switch_method(m)\n",
    "        lca.redo_lcia({act : 1})\n",
    "        temp_results.append(lca.score)\n",
    "    LCA_results.append(temp_results)\n",
    "\n",
    "print(\"Done !\")\n",
    "\n",
    "#Further analysis were done with the activity browser"
   ]
  }
 ],
 "metadata": {
  "kernelspec": {
   "display_name": "Python 3 (ipykernel)",
   "language": "python",
   "name": "python3"
  },
  "language_info": {
   "codemirror_mode": {
    "name": "ipython",
    "version": 3
   },
   "file_extension": ".py",
   "mimetype": "text/x-python",
   "name": "python",
   "nbconvert_exporter": "python",
   "pygments_lexer": "ipython3",
   "version": "3.9.17"
  }
 },
 "nbformat": 4,
 "nbformat_minor": 5
}
